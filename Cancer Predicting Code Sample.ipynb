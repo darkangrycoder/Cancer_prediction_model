{
 "cells": [
  {
   "cell_type": "code",
   "execution_count": null,
   "id": "f0916ace",
   "metadata": {},
   "outputs": [],
   "source": [
    "import pandas as pd\n",
    "import numpy as np\n",
    "import plotly.express as px\n",
    "import seaborn as sns\n",
    "import matplotlib.pyplot as plt\n",
    "from google.cloud import bigquery\n",
    "\n",
    "client = bigquery.Client()\n",
    "dataset_ref = client.dataset(\"epa_historical_air_quality\", project = \"bigquery-public-data\")\n",
    "dataset = client.get_dataset(dataset_ref)"
   ]
  },
  {
   "cell_type": "code",
   "execution_count": null,
   "id": "3ef425d1",
   "metadata": {},
   "outputs": [],
   "source": [
    "query = \"\"\"\n",
    "    WITH f AS \n",
    "           (\n",
    "           SELECT\n",
    "                county_name,\n",
    "                state_name,\n",
    "                date_local\n",
    "            FROM\n",
    "                `bigquery-public-data.epa_historical_air_quality.o3_daily_summary`\n",
    "            WHERE\n",
    "                 (aqi >= 101) #using days where the air was unhealthy for the whole population did not return enough results\n",
    "                  AND (EXTRACT(YEAR from date_local) = 2012 OR EXTRACT(YEAR from date_local) = 2013 OR EXTRACT(YEAR from date_local) = 2014\n",
    "                  OR EXTRACT(YEAR from date_local) = 2015 OR EXTRACT(YEAR from date_local) = 2016) \n",
    "                 \n",
    "            )   \n",
    "            \n",
    "    SELECT\n",
    "        CONCAT(b.county_name, \" \", b.state_name) AS specific_county,\n",
    "        COUNT(DISTINCT f.date_local) AS bad_days,\n",
    "        AVG(c.arithmetic_mean) AS average_temperature,\n",
    "        MAX(b.arithmetic_mean) AS worst_day_pollution,\n",
    "        AVG(b.arithmetic_mean) AS average_o3,\n",
    "        AVG(b.aqi) AS average_aqi,\n",
    "        AVG(b.first_max_value) AS average_daily_peak_pollution,\n",
    "        MAX(b.first_max_value) AS maximum_pollution_level,\n",
    "        AVG(b.first_max_hour) AS average_daily_peak_pollution_time\n",
    "\n",
    "    FROM\n",
    "        `bigquery-public-data.epa_historical_air_quality.o3_daily_summary` AS b\n",
    "        FULL OUTER JOIN\n",
    "            `bigquery-public-data.epa_historical_air_quality.temperature_daily_summary` AS c\n",
    "                ON\n",
    "                    b.county_name = c.county_name AND b.date_local = c.date_local AND b.state_name = c.state_name\n",
    "            FULL OUTER JOIN\n",
    "                f AS f\n",
    "                    ON \n",
    "                        c.county_name = f.county_name AND c.date_local = f.date_local AND c.state_name = f.state_name\n",
    "\n",
    "\n",
    "   \n",
    "    WHERE\n",
    "        (EXTRACT(YEAR from b.date_local) = 2012 OR EXTRACT(YEAR from b.date_local) = 2013\n",
    "        OR EXTRACT(YEAR from b.date_local) = 2014 OR EXTRACT(YEAR from b.date_local) = 2015 \n",
    "        OR EXTRACT(YEAR from b.date_local) = 2016)\n",
    "        \n",
    "    GROUP BY\n",
    "        specific_county\n",
    "    ORDER BY\n",
    "        average_o3 DESC\n",
    "        \n",
    "\n",
    "\"\"\""
   ]
  },
  {
   "cell_type": "code",
   "execution_count": null,
   "id": "6c426af9",
   "metadata": {},
   "outputs": [],
   "source": [
    "THREE_GB = 1000*1000*1000*3\n",
    "safe_config = bigquery.QueryJobConfig(maximum_bytes_billed=THREE_GB)\n",
    "safe_query_job = client.query(query, job_config=safe_config)\n",
    "\n",
    "air_pollution_data = safe_query_job.to_dataframe()\n",
    "air_pollution_data = air_pollution_data[air_pollution_data.specific_county.notnull()]\n",
    "air_pollution_data['specific_county'] = air_pollution_data.specific_county.astype(str)\n",
    "print(\"The shape of the air pollution dataset is: \") \n",
    "air_pollution_data.shape"
   ]
  },
  {
   "cell_type": "code",
   "execution_count": null,
   "id": "adea5ace",
   "metadata": {},
   "outputs": [],
   "source": [
    "cancer_data = pd.read_csv(\"../input/cancer-incidence-totals-and-rates-per-us-county/cancer_incidence_by_county.csv\")\n",
    "cancer_data.county = cancer_data.county.astype(str)\n",
    "cancer_data.county = cancer_data.county.str.replace(\" County\", \"\")\n",
    "cancer_data.county = cancer_data.county.str.replace(\"7,8\", \"\")\n",
    "cancer_data.county = cancer_data.county.apply(lambda x: x.strip())\n",
    "print(\"The shape of the cancer dataset is: \") \n",
    "cancer_data.shape"
   ]
  },
  {
   "cell_type": "code",
   "execution_count": null,
   "id": "5475f67b",
   "metadata": {},
   "outputs": [],
   "source": [
    "cancer_data.loc[cancer_data.five_year_incidence_change_rate == \"*\"]\n",
    "cancer_data['five_year_incidence_change_rate'] = cancer_data.five_year_incidence_change_rate.replace('*', np.nan)\n",
    "cancer_data['five_year_incidence_change_rate'] = cancer_data.five_year_incidence_change_rate.replace('¶', np.nan)\n",
    "cancer_data['five_year_incidence_change_rate'] = cancer_data.five_year_incidence_change_rate.astype(float)\n",
    "cancer_data['incidence_rate_per_100k'] = cancer_data.incidence_rate_per_100k.replace('*', np.nan)\n",
    "cancer_data['incidence_rate_per_100k'] = cancer_data.incidence_rate_per_100k.replace('¶', np.nan)\n",
    "cancer_data['incidence_rate_per_100k'] = cancer_data.incidence_rate_per_100k.str.replace(\" #  \", \"\")\n",
    "cancer_data['incidence_rate_per_100k'] = cancer_data.incidence_rate_per_100k.astype(float)\n",
    "cancer_data['recent_trend'] = cancer_data.recent_trend.replace('*', \"Nan\")\n",
    "cancer_data['recent_trend'] = cancer_data.recent_trend.replace('¶', \"Nan\")\n",
    "cancer_data['avg_annual_count'] = cancer_data.avg_annual_count.str.replace(\",\", \"\")\n",
    "cancer_data['avg_annual_count'] = cancer_data.avg_annual_count.str.replace(\" or fewer\", \"\")\n",
    "cancer_data['avg_annual_count'] = cancer_data.avg_annual_count.replace(\"¶\", 0)\n",
    "cancer_data['avg_annual_count'] = cancer_data.avg_annual_count.astype(int)\n"
   ]
  },
  {
   "cell_type": "code",
   "execution_count": null,
   "id": "03a47ae4",
   "metadata": {},
   "outputs": [],
   "source": [
    "cancer_data.loc[cancer_data.five_year_incidence_change_rate == \"*\"]\n",
    "cancer_data['five_year_incidence_change_rate'] = cancer_data.five_year_incidence_change_rate.replace('*', np.nan)\n",
    "cancer_data['five_year_incidence_change_rate'] = cancer_data.five_year_incidence_change_rate.replace('¶', np.nan)\n",
    "cancer_data['five_year_incidence_change_rate'] = cancer_data.five_year_incidence_change_rate.astype(float)\n",
    "cancer_data['incidence_rate_per_100k'] = cancer_data.incidence_rate_per_100k.replace('*', np.nan)\n",
    "cancer_data['incidence_rate_per_100k'] = cancer_data.incidence_rate_per_100k.replace('¶', np.nan)\n",
    "cancer_data['incidence_rate_per_100k'] = cancer_data.incidence_rate_per_100k.str.replace(\" #  \", \"\")\n",
    "cancer_data['incidence_rate_per_100k'] = cancer_data.incidence_rate_per_100k.astype(float)\n",
    "cancer_data['recent_trend'] = cancer_data.recent_trend.replace('*', \"Nan\")\n",
    "cancer_data['recent_trend'] = cancer_data.recent_trend.replace('¶', \"Nan\")\n",
    "cancer_data['avg_annual_count'] = cancer_data.avg_annual_count.str.replace(\",\", \"\")\n",
    "cancer_data['avg_annual_count'] = cancer_data.avg_annual_count.str.replace(\" or fewer\", \"\")\n",
    "cancer_data['avg_annual_count'] = cancer_data.avg_annual_count.replace(\"¶\", 0)\n",
    "cancer_data['avg_annual_count'] = cancer_data.avg_annual_count.astype(int)\n"
   ]
  },
  {
   "cell_type": "code",
   "execution_count": null,
   "id": "cde16fae",
   "metadata": {},
   "outputs": [],
   "source": [
    "def state(c):\n",
    "    if c['stateFIPS'] == 1:\n",
    "        return \"Alabama\"\n",
    "    elif c['stateFIPS'] == 2:\n",
    "        return \"Alaska\"\n",
    "    elif c['stateFIPS'] == 3:\n",
    "        return \"American Samoa\"\n",
    "    elif c['stateFIPS'] == 4:\n",
    "        return \"Arizona\"\n",
    "    elif c['stateFIPS'] == 5:\n",
    "        return \"Arkansas\"\n",
    "    elif c['stateFIPS'] == 6:\n",
    "        return \"California\"\n",
    "    elif c['stateFIPS'] == 8:\n",
    "        return \"Colorado\"\n",
    "    elif c['stateFIPS'] == 9:\n",
    "        return \"Connecticut\"\n",
    "    elif c['stateFIPS'] == 10:\n",
    "        return \"Delaware\"\n",
    "    elif c['stateFIPS'] == 11:\n",
    "        return \"DC\"\n",
    "    elif c['stateFIPS'] == 12:\n",
    "        return \"Florida\"\n",
    "    elif c['stateFIPS'] == 13:\n",
    "        return \"Georgia\"\n",
    "    elif c['stateFIPS'] == 14:\n",
    "        return \"Guam\"\n",
    "    elif c['stateFIPS'] == 15:\n",
    "        return \"Hawaii\"\n",
    "    elif c['stateFIPS'] == 16:\n",
    "        return \"Idaho\"\n",
    "    elif c['stateFIPS'] == 17:\n",
    "        return \"Illinois\"\n",
    "    elif c['stateFIPS'] == 18:\n",
    "        return \"Indiana\"\n",
    "    elif c['stateFIPS'] == 19:\n",
    "        return \"Iowa\"\n",
    "    elif c['stateFIPS'] == 20:\n",
    "        return \"Kansas\"\n",
    "    elif c['stateFIPS'] == 21:\n",
    "        return \"Kentucky\"\n",
    "    elif c['stateFIPS'] == 22:\n",
    "        return \"Louisiana\"\n",
    "    elif c['stateFIPS'] == 23:\n",
    "        return \"Maine\"\n",
    "    elif c['stateFIPS'] == 24:\n",
    "        return \"Maryland\"\n",
    "    elif c['stateFIPS'] == 25:\n",
    "        return \"Massachusetts\"\n",
    "    elif c['stateFIPS'] == 26:\n",
    "        return \"Michigan\"\n",
    "    elif c['stateFIPS'] == 27:\n",
    "        return \"Minnesota\"\n",
    "    elif c['stateFIPS'] == 28:\n",
    "        return \"Mississippi\"\n",
    "    elif c['stateFIPS'] == 29:\n",
    "        return \"Missouri\"\n",
    "    elif c['stateFIPS'] == 30:\n",
    "        return \"Montana\"\n",
    "    elif c['stateFIPS'] == 31:\n",
    "        return \"Nebraska\"\n",
    "    elif c['stateFIPS'] == 32:\n",
    "        return \"Nevada\"\n",
    "    elif c['stateFIPS'] == 33:\n",
    "        return \"New Hampshire\"\n",
    "    elif c['stateFIPS'] == 34:\n",
    "        return \"New Jersey\"\n",
    "    elif c['stateFIPS'] == 35:\n",
    "        return \"New Mexico\"\n",
    "    elif c['stateFIPS'] == 36:\n",
    "        return \"New York\"\n",
    "    elif c['stateFIPS'] == 37:\n",
    "        return \"North Carolina\"\n",
    "    elif c['stateFIPS'] == 38:\n",
    "        return \"North Dakota\"\n",
    "    elif c['stateFIPS'] == 39:\n",
    "        return \"Ohio\"\n",
    "    elif c['stateFIPS'] == 40:\n",
    "        return \"Oklahoma\"\n",
    "    elif c['stateFIPS'] == 41:\n",
    "        return \"Oregon\"\n",
    "    elif c['stateFIPS'] == 42:\n",
    "        return \"Pennsylvania\"\n",
    "    elif c['stateFIPS'] == 43:\n",
    "        return \"Puerto Rico\"\n",
    "    elif c['stateFIPS'] == 44:\n",
    "        return \"Rhode Island\"\n",
    "    elif c['stateFIPS'] == 45:\n",
    "        return \"South Carolina\"\n",
    "    elif c['stateFIPS'] == 46:\n",
    "        return \"South Dakota\"\n",
    "    elif c['stateFIPS'] == 47:\n",
    "        return \"Tennessee\"\n",
    "    elif c['stateFIPS'] == 48:\n",
    "        return \"Texas\"\n",
    "    elif c['stateFIPS'] == 49:\n",
    "        return \"Utah\"\n",
    "    elif c['stateFIPS'] == 50:\n",
    "        return \"Vermont\"\n",
    "    elif c['stateFIPS'] == 51:\n",
    "        return \"Virginia\"\n",
    "    elif c['stateFIPS'] == 53:\n",
    "        return \"Washington\"\n",
    "    elif c['stateFIPS'] == 54:\n",
    "        return \"West Virginia\"\n",
    "    elif c['stateFIPS'] == 55:\n",
    "        return \"Wisconsin\"\n",
    "    elif c['stateFIPS'] == 56:\n",
    "        return \"Wyoming\"\n",
    "    elif c['stateFIPS'] == 72:\n",
    "        return \"Puerto Rico\"\n",
    "    else:\n",
    "        return \"Other\"\n",
    "    \n",
    "cancer_data['state'] = cancer_data.apply(state, axis = 1)\n",
    "cancer_data['specific_county'] = cancer_data.county.str.cat(cancer_data.state, sep = \" \")\n",
    "cancer_data['specific_county'] = cancer_data.specific_county.astype(str)\n",
    "cancer_data = cancer_data.loc[cancer_data.recent_trend != 'Nan']\n"
   ]
  },
  {
   "cell_type": "code",
   "execution_count": null,
   "id": "9b4f3beb",
   "metadata": {},
   "outputs": [],
   "source": [
    "merged = pd.merge(cancer_data, air_pollution_data, on = [\"specific_county\"], how = \"inner\")\n",
    "merged = merged.drop('Unnamed: 0', 1)\n",
    "print(\"The shape of the merged dataset is: \") \n",
    "merged.shape"
   ]
  },
  {
   "cell_type": "code",
   "execution_count": null,
   "id": "413939bd",
   "metadata": {},
   "outputs": [],
   "source": [
    "sns.heatmap(merged.isnull())"
   ]
  },
  {
   "cell_type": "code",
   "execution_count": null,
   "id": "147546fa",
   "metadata": {},
   "outputs": [],
   "source": [
    "merged.describe().T.style.background_gradient()"
   ]
  },
  {
   "cell_type": "code",
   "execution_count": null,
   "id": "6ed9f180",
   "metadata": {},
   "outputs": [],
   "source": [
    "px.histogram(merged, x = 'recent_trend', color = 'state')"
   ]
  },
  {
   "cell_type": "code",
   "execution_count": null,
   "id": "5a57d38a",
   "metadata": {},
   "outputs": [],
   "source": [
    "number_columns = ['incidence_rate_per_100k', 'avg_annual_count', 'five_year_incidence_change_rate', \n",
    "            'bad_days', 'average_temperature', 'average_daily_peak_pollution', \n",
    "            'maximum_pollution_level', 'worst_day_pollution', 'average_o3', 'average_aqi', 'average_daily_peak_pollution_time']\n",
    "\n",
    "for column in number_columns:\n",
    "    fig, axes = plt.subplots(1, 2, figsize = (15, 5))\n",
    "    sns.histplot(x = merged[column], ax = axes[0]).set(title = column)\n",
    "    sns.boxplot(x = merged[column], ax = axes[1]).set(title = column)\n",
    "    fig.show()"
   ]
  },
  {
   "cell_type": "code",
   "execution_count": null,
   "id": "5863222c",
   "metadata": {},
   "outputs": [],
   "source": [
    "sns.heatmap(merged.corr())"
   ]
  },
  {
   "cell_type": "code",
   "execution_count": null,
   "id": "8924c0b5",
   "metadata": {},
   "outputs": [],
   "source": [
    "correlated = merged.corr().abs().unstack().sort_values(ascending = False)\n",
    "\n",
    "print(correlated[17:37])"
   ]
  },
  {
   "cell_type": "code",
   "execution_count": null,
   "id": "26616ed6",
   "metadata": {},
   "outputs": [],
   "source": [
    "print(correlated[65:100])"
   ]
  },
  {
   "cell_type": "code",
   "execution_count": null,
   "id": "b4303e37",
   "metadata": {},
   "outputs": [],
   "source": [
    "fig = px.histogram(merged, x = 'state', y = ['avg_annual_count', 'incidence_rate_per_100k'], barmode = 'group', title = \"Cancer By State\")\n",
    "fig.update_layout(xaxis = {'categoryorder': 'total descending'})\n",
    "fig.show()"
   ]
  },
  {
   "cell_type": "code",
   "execution_count": null,
   "id": "fab3dad5",
   "metadata": {},
   "outputs": [],
   "source": [
    "sns.pairplot(merged, vars = ['incidence_rate_per_100k', 'bad_days', 'avg_annual_count', \n",
    "                             'worst_day_pollution', 'average_daily_peak_pollution', 'maximum_pollution_level', \n",
    "                             'average_aqi', 'average_o3', 'average_temperature'])"
   ]
  },
  {
   "cell_type": "code",
   "execution_count": null,
   "id": "f2e33b5f",
   "metadata": {},
   "outputs": [],
   "source": [
    "px.scatter(merged, x = 'average_o3', y = 'incidence_rate_per_100k', facet_col = 'recent_trend', color = 'average_aqi', trendline = 'lowess')"
   ]
  },
  {
   "cell_type": "code",
   "execution_count": null,
   "id": "281a3f6e",
   "metadata": {},
   "outputs": [],
   "source": [
    "px.scatter(merged, x = 'average_aqi', y = 'incidence_rate_per_100k', facet_col = 'recent_trend', color = 'average_aqi', trendline = 'lowess')"
   ]
  },
  {
   "cell_type": "code",
   "execution_count": null,
   "id": "abaf4e59",
   "metadata": {},
   "outputs": [],
   "source": [
    "px.scatter(merged, x = 'bad_days', y = 'incidence_rate_per_100k', color = 'average_aqi', facet_col = 'recent_trend', trendline = 'lowess')"
   ]
  },
  {
   "cell_type": "code",
   "execution_count": null,
   "id": "49811c72",
   "metadata": {},
   "outputs": [],
   "source": [
    "px.scatter(merged, x = 'maximum_pollution_level', y = 'incidence_rate_per_100k', facet_col = 'recent_trend', color = 'average_aqi', trendline = 'lowess')"
   ]
  },
  {
   "cell_type": "code",
   "execution_count": null,
   "id": "657e7922",
   "metadata": {},
   "outputs": [],
   "source": [
    "px.density_heatmap(merged, x = 'incidence_rate_per_100k', y = 'maximum_pollution_level')"
   ]
  },
  {
   "cell_type": "code",
   "execution_count": null,
   "id": "04257403",
   "metadata": {},
   "outputs": [],
   "source": [
    "#Gratitude to Dan Becker\n",
    "from sklearn.metrics import mean_absolute_error\n",
    "from sklearn.model_selection import train_test_split\n",
    "from sklearn.ensemble import RandomForestRegressor\n",
    "from sklearn.model_selection import cross_val_score\n",
    "\n",
    "features = ['avg_annual_count', 'bad_days',  'average_daily_peak_pollution', \n",
    "            'maximum_pollution_level', 'worst_day_pollution', 'average_o3', \n",
    "            'average_aqi', 'average_daily_peak_pollution_time']\n",
    "X = merged[features]\n",
    "y = merged.incidence_rate_per_100k\n",
    "X_train, X_valid, y_train, y_valid = train_test_split(X, y)\n",
    "\n",
    "my_model = RandomForestRegressor(n_estimators = 190, max_depth = 8, random_state = 1)\n",
    "my_model.fit(X_train, y_train)\n",
    "\n",
    "scores = -1 * cross_val_score(my_model, X, y, cv=7, scoring = 'neg_mean_absolute_error')\n",
    "\n",
    "print(\"Average MAE: \", scores.mean())\n",
    "\n",
    "feature_importances = pd.Series(my_model.feature_importances_, index=X_train.columns).sort_values(ascending=False)\n",
    "\n",
    "sns.barplot(x = feature_importances, y = feature_importances.index)"
   ]
  },
  {
   "cell_type": "code",
   "execution_count": null,
   "id": "41c6598c",
   "metadata": {},
   "outputs": [],
   "source": []
  }
 ],
 "metadata": {
  "kernelspec": {
   "display_name": "Python 3 (ipykernel)",
   "language": "python",
   "name": "python3"
  },
  "language_info": {
   "codemirror_mode": {
    "name": "ipython",
    "version": 3
   },
   "file_extension": ".py",
   "mimetype": "text/x-python",
   "name": "python",
   "nbconvert_exporter": "python",
   "pygments_lexer": "ipython3",
   "version": "3.9.1"
  }
 },
 "nbformat": 4,
 "nbformat_minor": 5
}
